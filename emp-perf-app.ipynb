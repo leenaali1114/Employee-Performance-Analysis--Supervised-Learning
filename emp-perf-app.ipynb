{
 "cells": [
  {
   "cell_type": "code",
   "execution_count": 1,
   "metadata": {},
   "outputs": [],
   "source": [
    "import streamlit as st\n",
    "import pandas as pd\n",
    "from sklearn import datasets\n",
    "from sklearn.ensemble import RandomForestClassifier\n",
    "from sklearn.preprocessing import *"
   ]
  },
  {
   "cell_type": "code",
   "execution_count": 2,
   "metadata": {},
   "outputs": [],
   "source": [
    "st.write(\"\"\"\n",
    "# Basic Employee Performance Prediction App\n",
    "This app predicts the **Employee Performance** type!\n",
    "\"\"\")\n"
   ]
  },
  {
   "cell_type": "code",
   "execution_count": 3,
   "metadata": {},
   "outputs": [],
   "source": [
    "dataset = pd.read_excel('EmployeePerformanceData.xls')"
   ]
  },
  {
   "cell_type": "code",
   "execution_count": 4,
   "metadata": {},
   "outputs": [],
   "source": [
    "dataset.drop(['EmpNumber'],inplace=True,axis=1)"
   ]
  },
  {
   "cell_type": "code",
   "execution_count": 5,
   "metadata": {},
   "outputs": [],
   "source": [
    "le = LabelEncoder()\n",
    "dataset[\"empdep\"] = le.fit_transform(dataset[\"EmpDepartment\"])\n",
    "dataset[\"empjr\"] = le.fit_transform(dataset[\"EmpJobRole\"])\n"
   ]
  },
  {
   "cell_type": "code",
   "execution_count": 6,
   "metadata": {},
   "outputs": [
    {
     "data": {
      "text/plain": [
       "EmpJobRole                 empjr\n",
       "Business Analyst           0         16\n",
       "Data Scientist             1         20\n",
       "Delivery Manager           2         12\n",
       "Developer                  3        236\n",
       "Finance Manager            4         49\n",
       "Healthcare Representative  5         33\n",
       "Human Resources            6         45\n",
       "Laboratory Technician      7         64\n",
       "Manager                    8         51\n",
       "Manager R&D                9         94\n",
       "Manufacturing Director     10        33\n",
       "Research Director          11        19\n",
       "Research Scientist         12        77\n",
       "Sales Executive            13       270\n",
       "Sales Representative       14        69\n",
       "Senior Developer           15        52\n",
       "Senior Manager R&D         16        15\n",
       "Technical Architect        17         7\n",
       "Technical Lead             18        38\n",
       "Name: empjr, dtype: int64"
      ]
     },
     "execution_count": 6,
     "metadata": {},
     "output_type": "execute_result"
    }
   ],
   "source": [
    "dataset.groupby(by='EmpJobRole')['empjr'].value_counts()"
   ]
  },
  {
   "cell_type": "code",
   "execution_count": 7,
   "metadata": {},
   "outputs": [
    {
     "data": {
      "text/plain": [
       "<streamlit.DeltaGenerator.DeltaGenerator at 0x7f3b1d4b3450>"
      ]
     },
     "execution_count": 7,
     "metadata": {},
     "output_type": "execute_result"
    }
   ],
   "source": [
    "st.sidebar.header('User Input Parameters')"
   ]
  },
  {
   "cell_type": "code",
   "execution_count": 8,
   "metadata": {},
   "outputs": [],
   "source": [
    "def user_input_features():\n",
    "    #age = st.sidebar.slider('Age', 18, 60, 30)\n",
    "    #gender = st.radio(\"Gender\", data.Gender.unique())\n",
    "    #edubkgrnd = st.radio(\"Educational Background\", data.EducationBackground.unique())\n",
    "    empdep = st.sidebar.radio(\"Department\", dataset.EmpDepartment.unique())\n",
    "    empjr = st.sidebar.radio(\"Job Role\", dataset.EmpJobRole.unique())\n",
    "    empenvsat = st.sidebar.slider('Environment Satisfaction', 1, 4, 2)\n",
    "    empsalhike = st.sidebar.slider('Salary Hike Percent', 11, 25, 15)\n",
    "    empwrklb = st.sidebar.slider('Work Life Balance', 2, 4, 2)\n",
    "    empyrsatcomp = st.sidebar.slider('Experience Years at this Company',0, 36, 2)\n",
    "    empyrscurrole = st.sidebar.slider('Experience Years in Current Role', 0, 15, 5)\n",
    "    empyrspromo = st.sidebar.slider('Years since last Promotion', 0, 15, 2)\n",
    "    empyrscurrmng = st.sidebar.slider('Years with Current Manager', 0, 17, 2)\n",
    "         \n",
    "    \n",
    "    data = {'EmpDepartment': empdep,\n",
    "            'EmpJobRole': empjr,\n",
    "            'EmpEnvironmentSatisfaction': empenvsat,\n",
    "            'EmpLastSalaryHikePercent': empsalhike,\n",
    "            'EmpWorkLifeBalance' : empwrklb,\n",
    "            'ExperienceYearsAtThisCompany' : empyrsatcomp,\n",
    "            'ExperienceYearsInCurrentRole' : empyrscurrole,\n",
    "            'YearsSinceLastPromotion' : empyrspromo,\n",
    "            'YearsWithCurrManager' : empyrscurrmng }\n",
    "    features = pd.DataFrame(data, index=[0])\n",
    "    return features"
   ]
  },
  {
   "cell_type": "code",
   "execution_count": 9,
   "metadata": {},
   "outputs": [
    {
     "name": "stdout",
     "output_type": "stream",
     "text": [
      "  EmpDepartment       EmpJobRole  EmpEnvironmentSatisfaction  \\\n",
      "0         Sales  Sales Executive                           2   \n",
      "\n",
      "   EmpLastSalaryHikePercent  EmpWorkLifeBalance  ExperienceYearsAtThisCompany  \\\n",
      "0                        15                   2                             2   \n",
      "\n",
      "   ExperienceYearsInCurrentRole  YearsSinceLastPromotion  YearsWithCurrManager  \n",
      "0                             5                        2                     2  \n"
     ]
    }
   ],
   "source": [
    "df = user_input_features()\n",
    "print(df)"
   ]
  },
  {
   "cell_type": "code",
   "execution_count": 10,
   "metadata": {},
   "outputs": [],
   "source": [
    "st.subheader('User Input parameters')\n",
    "st.write(df)"
   ]
  },
  {
   "cell_type": "code",
   "execution_count": 11,
   "metadata": {},
   "outputs": [],
   "source": [
    "\n",
    "if(df.EmpDepartment is \"Data Science\"):\n",
    "    df.EmpDepartment = 0\n",
    "        \n",
    "elif (df.EmpDepartment is \"Development\"):\n",
    "    df.EmpDepartment = 1\n",
    "        \n",
    "elif (df.EmpDepartment is \"Finance\"):\n",
    "    df.EmpDepartment = 2\n",
    "        \n",
    "elif (df.EmpDepartment is \"Human Resources\"):\n",
    "    df.EmpDepartment = 3\n",
    "        \n",
    "elif (df.EmpDepartment is \"Research & Development\"):\n",
    "    df.EmpDepartment = 4\n",
    "    \n",
    "else:\n",
    "    df.EmpDepartment = 5\n"
   ]
  },
  {
   "cell_type": "code",
   "execution_count": 12,
   "metadata": {},
   "outputs": [],
   "source": [
    "\n",
    "if(df.EmpJobRole is \"Business Analyst\"):\n",
    "    df.EmpJobRole = 0\n",
    "elif (df.EmpJobRole is \"Data Scientist\"):\n",
    "    df.EmpJobRole = 1\n",
    "elif (df.EmpJobRole is \"Delivery Manager\"):\n",
    "    df.EmpJobRole = 2\n",
    "elif (df.EmpJobRole is \"Developer\"):\n",
    "    df.EmpJobRole = 3\n",
    "elif (df.EmpJobRole is \"Finance Manager\"):\n",
    "    df.EmpJobRole = 4\n",
    "elif (df.EmpJobRole is \"HealthCare Representative\"):\n",
    "    df.EmpJobRole = 5\n",
    "elif (df.EmpJobRole is \"Human Resources\"):\n",
    "    df.EmpJobRole = 6\n",
    "elif (df.EmpJobRole is \"Laboratory Technician\"):\n",
    "    df.EmpJobRole = 7\n",
    "elif (df.EmpJobRole is \"Manager\"):\n",
    "    df.EmpJobRole = 8\n",
    "elif (df.EmpJobRole is \"Manager R&D\"):\n",
    "    df.EmpJobRole = 9\n",
    "elif (df.EmpJobRole is \"Manufacturing Director\"):\n",
    "    df.EmpJobRole = 10\n",
    "elif (df.EmpJobRole is \"Research Director\"):\n",
    "    df.EmpJobRole = 11\n",
    "elif (df.EmpJobRole is \"Research Scientist\"):\n",
    "    df.EmpJobRole = 12\n",
    "elif (df.EmpJobRole is \"Sales Executive\"):\n",
    "    df.EmpJobRole = 13\n",
    "elif (df.EmpJobRole is \"Sales Representative\"):\n",
    "    df.EmpJobRole = 14\n",
    "elif (df.EmpJobRole is \"Senior Developer\"):\n",
    "    df.EmpJobRole = 15\n",
    "elif (df.EmpJobRole is \"Senior Manager R&D\"):\n",
    "    df.EmpJobRole = 16\n",
    "elif (df.EmpJobRole is \"Technical Architect\"):\n",
    "    df.EmpJobRole = 17\n",
    "else:\n",
    "    df.EmpJobRole = 18"
   ]
  },
  {
   "cell_type": "code",
   "execution_count": 13,
   "metadata": {},
   "outputs": [
    {
     "name": "stdout",
     "output_type": "stream",
     "text": [
      "   EmpDepartment  EmpJobRole  EmpEnvironmentSatisfaction  \\\n",
      "0              5          18                           2   \n",
      "\n",
      "   EmpLastSalaryHikePercent  EmpWorkLifeBalance  ExperienceYearsAtThisCompany  \\\n",
      "0                        15                   2                             2   \n",
      "\n",
      "   ExperienceYearsInCurrentRole  YearsSinceLastPromotion  YearsWithCurrManager  \n",
      "0                             5                        2                     2  \n"
     ]
    }
   ],
   "source": [
    "print(df)"
   ]
  },
  {
   "cell_type": "code",
   "execution_count": 14,
   "metadata": {},
   "outputs": [],
   "source": [
    "X = dataset.iloc[:,[27,28,9,16,20,21,22,23,24]]\n",
    "Y = dataset.PerformanceRating"
   ]
  },
  {
   "cell_type": "code",
   "execution_count": 15,
   "metadata": {},
   "outputs": [
    {
     "data": {
      "text/plain": [
       "RandomForestClassifier(bootstrap=True, ccp_alpha=0.0, class_weight=None,\n",
       "                       criterion='gini', max_depth=None, max_features='auto',\n",
       "                       max_leaf_nodes=None, max_samples=None,\n",
       "                       min_impurity_decrease=0.0, min_impurity_split=None,\n",
       "                       min_samples_leaf=1, min_samples_split=2,\n",
       "                       min_weight_fraction_leaf=0.0, n_estimators=100,\n",
       "                       n_jobs=None, oob_score=False, random_state=None,\n",
       "                       verbose=0, warm_start=False)"
      ]
     },
     "execution_count": 15,
     "metadata": {},
     "output_type": "execute_result"
    }
   ],
   "source": [
    "\n",
    "clf = RandomForestClassifier()\n",
    "clf.fit(X, Y)"
   ]
  },
  {
   "cell_type": "code",
   "execution_count": 16,
   "metadata": {},
   "outputs": [],
   "source": [
    "prediction = clf.predict(df)\n",
    "prediction_proba = clf.predict_proba(df)"
   ]
  },
  {
   "cell_type": "code",
   "execution_count": 17,
   "metadata": {},
   "outputs": [
    {
     "name": "stdout",
     "output_type": "stream",
     "text": [
      "   EmpDepartment  EmpJobRole  EmpEnvironmentSatisfaction  \\\n",
      "0              5          18                           2   \n",
      "\n",
      "   EmpLastSalaryHikePercent  EmpWorkLifeBalance  ExperienceYearsAtThisCompany  \\\n",
      "0                        15                   2                             2   \n",
      "\n",
      "   ExperienceYearsInCurrentRole  YearsSinceLastPromotion  YearsWithCurrManager  \n",
      "0                             5                        2                     2  \n"
     ]
    }
   ],
   "source": [
    "print(df)"
   ]
  },
  {
   "cell_type": "code",
   "execution_count": 18,
   "metadata": {},
   "outputs": [
    {
     "name": "stdout",
     "output_type": "stream",
     "text": [
      "   EmpDepartment  EmpJobRole  EmpEnvironmentSatisfaction  \\\n",
      "0              5          18                           2   \n",
      "\n",
      "   EmpLastSalaryHikePercent  EmpWorkLifeBalance  ExperienceYearsAtThisCompany  \\\n",
      "0                        15                   2                             2   \n",
      "\n",
      "   ExperienceYearsInCurrentRole  YearsSinceLastPromotion  YearsWithCurrManager  \n",
      "0                             5                        2                     2  \n"
     ]
    }
   ],
   "source": [
    "print(df)"
   ]
  },
  {
   "cell_type": "code",
   "execution_count": 19,
   "metadata": {},
   "outputs": [],
   "source": [
    "st.subheader('Class labels and their corresponding index number')\n",
    "st.write(dataset.PerformanceRating.unique())"
   ]
  },
  {
   "cell_type": "code",
   "execution_count": 20,
   "metadata": {},
   "outputs": [],
   "source": [
    "st.subheader('Prediction')\n",
    "st.write(dataset.PerformanceRating[prediction])\n",
    "#st.write(prediction)"
   ]
  },
  {
   "cell_type": "code",
   "execution_count": 21,
   "metadata": {},
   "outputs": [],
   "source": [
    "st.subheader('Prediction Probability')\n",
    "st.write(prediction_proba)"
   ]
  },
  {
   "cell_type": "code",
   "execution_count": null,
   "metadata": {},
   "outputs": [],
   "source": [
    "\n"
   ]
  },
  {
   "cell_type": "code",
   "execution_count": null,
   "metadata": {},
   "outputs": [],
   "source": []
  },
  {
   "cell_type": "code",
   "execution_count": null,
   "metadata": {},
   "outputs": [],
   "source": []
  }
 ],
 "metadata": {
  "kernelspec": {
   "display_name": "Python 3",
   "language": "python",
   "name": "python3"
  },
  "language_info": {
   "codemirror_mode": {
    "name": "ipython",
    "version": 3
   },
   "file_extension": ".py",
   "mimetype": "text/x-python",
   "name": "python",
   "nbconvert_exporter": "python",
   "pygments_lexer": "ipython3",
   "version": "3.7.6"
  }
 },
 "nbformat": 4,
 "nbformat_minor": 4
}
